{
 "cells": [
  {
   "cell_type": "markdown",
   "id": "1efbbdf8-61b1-4c52-b5c0-b5699281e067",
   "metadata": {},
   "source": [
    "-**Clustering** is a machine learning technique that uses unsupervised learning\n",
    "- Group unlabelled data into natural clusters\n",
    "- Clustering is an optimisation problem\n",
    "- $variability(c) = \\sum_{e \\in c}distance(mean(c),e)^2$\n",
    "- Variance is different from variability, you don't divide by n. This is because in clustering big and bad is worse than small and bad\n",
    "- $dissimilarity(C) = \\sum_{c in C}variability(c)$\n",
    "- Find a C that minimises the dissimilarity\n",
    "- In order not to end up as each point being a clutser we add a constraint e.g. the clusters have to have some minimum distance between them or we can constrain the number of clusters\n",
    "\n",
    "**Hierarchical clustering**\n",
    "- Start by assigning each item to a cluster so that if you have N items you have N clusters, each containing just one item\n",
    "- Find the closest (most similar) pair of clusters and merge then into a single cluster, so that now you have one fewer clusters\n",
    "- Continue until all items are clustered into a single cluster of size N\n",
    "- Agglomerative hierarchical clustering\n",
    "- What do we mean by closest?\n",
    "- **Single Linkage**: consider the distance between one cluster and another cluster to be equal to the shortest distance from any member of one cluster to any member of the other cluster\n",
    "- **Complete Linkage**: consider the distance between one cluster and another to be equal to the greatest distance from any member of one cluster to any member of the other cluster\n",
    "- **Average Linkage**: consider the distance between one cluster and another cluster to be the average distance from any member of one cluster to any member of the other cluster\n",
    "\n",
    "|BOS|NY|CHI|DEN|SF|SEA|\n",
    "|--|--|--|--|--|--\n",
    "|0|206|963|1949|3095|2979|\n",
    "|0|0|802|1771|2934|2815|\n",
    "|0|0|0|966|1235|1307|\n",
    "|0|0|0|0|1235|1307|\n",
    "|0|0|0|0|0|808|\n",
    "  "
   ]
  },
  {
   "cell_type": "markdown",
   "id": "799c5207-fe90-420f-98fa-6893947a1e6c",
   "metadata": {},
   "source": [
    "**Clusters**\n",
    "- [BOS, NY] [CHI [DEN] [SF] [SEA]\n",
    "- [BOS, NY, CHI] [DEN] [SF] [SEA]\n",
    "- [BOS, NY, CHI] [DEN] [SF, SEA]\n",
    "- **Single**: [BOS, NY, CHI, DEN] [SF, SEA]\n",
    "- **Complete**: [BOS, NY, CHI] [DEN, SF, SEA]"
   ]
  },
  {
   "cell_type": "markdown",
   "id": "09233e50-7a6c-4dc0-804e-3e5ccd84d0dc",
   "metadata": {},
   "source": [
    "**Pros and cons of hierarchical clustering**\n",
    "- Get a history of dendrograms\n",
    "- Deterministic given a linkage metric\n",
    "- Answer might not be optimial. Greedy algorithm. Making locally optimal decisions at each point may or may not give us a globally optimal solution\n",
    "- Flexible\n",
    "- Really slow, complexity $O(n^3)$. Not something you want to work with on large data sets"
   ]
  },
  {
   "cell_type": "code",
   "execution_count": 1,
   "id": "25698bad-800f-4728-9711-6ce7c0017a77",
   "metadata": {},
   "outputs": [],
   "source": [
    "import numpy as np\n",
    "import matplotlib.pyplot as plt\n",
    "import scipy.cluster.hierarchy as sch\n"
   ]
  },
  {
   "cell_type": "code",
   "execution_count": 32,
   "id": "58e936b5-2b3f-41e0-94bd-a91bab527675",
   "metadata": {},
   "outputs": [
    {
     "data": {
      "image/png": "[encoded data removed]",
      "text/plain": [
       "<Figure size 640x480 with 1 Axes>"
      ]
     },
     "metadata": {},
     "output_type": "display_data"
    }
   ],
   "source": [
    "data = [0, 15, 35, 64, 100, -35]\n",
    "z = np.reshape(data, (len(data), 1))\n",
    "dendrogram = sch.dendrogram(sch.linkage(z, method='complete'), labels=data)"
   ]
  },
  {
   "cell_type": "code",
   "execution_count": 5,
   "id": "30661bbf-f6ce-41a9-acb5-a76bd47261d3",
   "metadata": {},
   "outputs": [
    {
     "data": {
      "text/plain": [
       "array([[ 0],\n",
       "       [ 4],\n",
       "       [ 6],\n",
       "       [30],\n",
       "       [39],\n",
       "       [52],\n",
       "       [56],\n",
       "       [58]])"
      ]
     },
     "execution_count": 5,
     "metadata": {},
     "output_type": "execute_result"
    }
   ],
   "source": [
    "z"
   ]
  },
  {
   "cell_type": "code",
   "execution_count": 23,
   "id": "d9e4d3f4-4245-4df4-b393-a639b41e20ff",
   "metadata": {},
   "outputs": [],
   "source": [
    "airports = ['BOS', 'NY', 'CHI', 'DEN', 'SF', 'SEA']\n",
    "distance = [[0, 206, 963, 1949, 3095, 2979],\n",
    "            [206, 0, 802, 1771, 2934, 2815],\n",
    "            [963, 802, 0, 966, 2142, 2013],\n",
    "            [1949, 1771, 966, 0, 1235, 1307],\n",
    "            [3095, 2934, 2142, 1235, 0, 808],\n",
    "            [2979, 2815, 2013, 1307, 808, 0]]"
   ]
  },
  {
   "cell_type": "code",
   "execution_count": 29,
   "id": "5555efbd-21ca-47f8-8733-bc3247c428dc",
   "metadata": {},
   "outputs": [
    {
     "data": {
      "image/png": "[encoded data removed]",
      "text/plain": [
       "<Figure size 640x480 with 1 Axes>"
      ]
     },
     "metadata": {},
     "output_type": "display_data"
    }
   ],
   "source": [
    "from scipy.spatial.distance import squareform\n",
    "condensed_dist_matrix = squareform(distance)\n",
    "dendrogram = sch.dendrogram(sch.linkage(condensed_dist_matrix, method='single'), labels=airports)"
   ]
  },
  {
   "cell_type": "markdown",
   "id": "76dc920c-0d9c-46db-9880-94ed22183508",
   "metadata": {},
   "source": [
    "**k-means clustering**\n",
    "- k is the number of clusters we want\n",
    "- If you don't have any idea about how many clusters there are this is problematic\n",
    "- If you know how many clusters you want, it is a good choice as it much faster\n",
    "\n",
    "**k-means algorithm**\n",
    "- Randomly choose k samples as initial centroids\n",
    "- while True:\n",
    "- create k clusters by assigning each point to the nearest cluster\n",
    "- compute k new centroids by averaging the points in each cluster\n",
    "- if centroids don't change\n",
    "- exit\n",
    "\n",
    "- Complexity of one iteration\n",
    "- Compare each point with each centoid - k*n\n",
    "- Typically it converges quite quickly\n",
    "- Most commonly used clustering algorithm as it is very fast\n",
    "\n",
    "**Choosing k**\n",
    "- Choosing the wrong k can be problematic\n",
    "- If k non-sensical then your clustering will be non-sensical\n",
    "- How do we choose k?\n",
    "- Results can depend on the initial centroids\n",
    "- k-means is non-deterministic\n",
    "- If the initial centroids are poorly chosen it can take longer to converge or you can get a completely different answer\n",
    "\n",
    "**Choosing k**\n",
    "- Choose k using a priori knowledge of the application\n",
    "- For example there 5 different types of bacteria\n",
    "- There are two types of people in the world - DkIT graduates and not\n",
    "- Try different values of k and evaluate the quality of the results\n",
    "- Run hierarchical clustering on a subset of the data\n",
    "- Try and select good initial centroids distributed over the space\n",
    "- Try multiple sets of randomly selected centroids and select the best result\n",
    "\n",
    "**Mitigating dependence on the initial centroids**\n",
    "- best = kmeans(points)\n",
    "- for t in range(numTrials):\n",
    "- C = kmeans(points)\n",
    "- if dissimarlity(C) < dissimilarity(best)\n",
    "- best = C\n",
    "- return best\n",
    "\n",
    "- Think of a centroid as the \"centre of gravity\" of a cluster\n",
    "\n",
    "**Elbow method to find k**\n",
    "- $SSE_1 = \\sum_{i=0}^ndist(x_i - c_1)^2$\n",
    "- $SSE = SSE_1 + \\dots + SSE_k$"
   ]
  },
  {
   "cell_type": "code",
   "execution_count": null,
   "id": "73ed2903-e436-46cc-8b19-33e46390c94b",
   "metadata": {},
   "outputs": [],
   "source": []
  }
 ],
 "metadata": {
  "kernelspec": {
   "display_name": "Python 3 (ipykernel)",
   "language": "python",
   "name": "python3"
  },
  "language_info": {
   "codemirror_mode": {
    "name": "ipython",
    "version": 3
   },
   "file_extension": ".py",
   "mimetype": "text/x-python",
   "name": "python",
   "nbconvert_exporter": "python",
   "pygments_lexer": "ipython3",
   "version": "3.12.4"
  }
 },
 "nbformat": 4,
 "nbformat_minor": 5
}
