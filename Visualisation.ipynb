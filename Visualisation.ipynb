{
 "cells": [
  {
   "cell_type": "markdown",
   "id": "6ff0875d-ded4-4767-88a6-38ced0ff11f0",
   "metadata": {},
   "source": [
    "Notes that follow are from \"The Visualisation Display of Quantitative Information\" by Edward Tufte.\n",
    "\n",
    "-Excellence in statistical graphics consists of complicated ideas communicated with clarity, precision, and efficiency. Graphics displays should:\n",
    "- Show the data\n",
    "- Induce the viewer to think about the substance rather than about methodology, graphic design, or how the graph was produced or anything else\n",
    "- Avoid distorting what the data has to say\n",
    "- Present many numbers in a small space\n",
    "- Make large datasets coherent\n",
    "- Encourage the eye to compare different pieces of data\n",
    "- Reveal the data at several levels of detail, from a broad overview to a fine perspective\n",
    "- Serve a reasonably clear purpose: description, exploration, tabulation, or decoration\n",
    "- Closely integrated with statistical and verbal descriptions of the data\n",
    "- Graphics should reveal data\n",
    "\n",
    "- **Graphical Integrity**\n",
    "- Lie Factor = $\\frac{size of the fact shown in the graphic}{size of the effect in the data}$"
   ]
  },
  {
   "cell_type": "code",
   "execution_count": null,
   "id": "5a131724-5632-405d-a7b9-815f533fee55",
   "metadata": {},
   "outputs": [],
   "source": []
  }
 ],
 "metadata": {
  "kernelspec": {
   "display_name": "Python 3 (ipykernel)",
   "language": "python",
   "name": "python3"
  },
  "language_info": {
   "codemirror_mode": {
    "name": "ipython",
    "version": 3
   },
   "file_extension": ".py",
   "mimetype": "text/x-python",
   "name": "python",
   "nbconvert_exporter": "python",
   "pygments_lexer": "ipython3",
   "version": "3.12.4"
  }
 },
 "nbformat": 4,
 "nbformat_minor": 5
}
