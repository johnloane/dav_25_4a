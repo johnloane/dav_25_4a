{
 "cells": [
  {
   "cell_type": "markdown",
   "id": "6ff0875d-ded4-4767-88a6-38ced0ff11f0",
   "metadata": {},
   "source": [
    "Notes that follow are from \"The Visualisation Display of Quantitative Information\" by Edward Tufte.\n",
    "\n",
    "-Excellence in statistical graphics consists of complicated ideas communicated with clarity, precision, and efficiency. Graphics displays should:\n",
    "- Show the data\n",
    "- Induce the viewer to think about the substance rather than about methodology, graphic design, or how the graph was produced or anything else\n",
    "- Avoid distorting what the data has to say\n",
    "- Present many numbers in a small space\n",
    "- Make large datasets coherent\n",
    "- Encourage the eye to compare different pieces of data\n",
    "- Reveal the data at several levels of detail, from a broad overview to a fine perspective\n",
    "- Serve a reasonably clear purpose: description, exploration, tabulation, or decoration\n",
    "- Closely integrated with statistical and verbal descriptions of the data\n",
    "- Graphics should reveal data\n",
    "\n"
   ]
  },
  {
   "cell_type": "markdown",
   "id": "c30b86ae-4e8a-4fb7-9a3d-3df70a628c40",
   "metadata": {},
   "source": [
    "- **Graphical Integrity**\n",
    "- Lie Factor = $\\frac{size of the fact shown in the graphic}{size of the effect in the data}$\n",
    "- Graphical integrity is more likely to result if these six principles are followed:\n",
    "    1. The representation of numbers, as physically measured in the surface of the graphic itself, should be directly proportional to the numerical quantities represented\n",
    "    2. Clear, detailed, and thorough labelling should be used to defeat graphical distortion and ambiguity. Write out explanations of the data on the graphic. Label important events in the data\n",
    "    3. Show data variation, not design variation\n",
    "    4. In time-series displays or money, deflated standardised units of monetary measurement should be used\n",
    "    5. The number of information-carrying (variables) dimensions depicted should not exceed the number of dimensions in the data\n",
    "    6. Graphics must not quote data out of context"
   ]
  },
  {
   "cell_type": "markdown",
   "id": "645b3117-ac88-4d56-81cf-038083609fb2",
   "metadata": {},
   "source": [
    "**Sources of Graphical Integrity and Sophistication**\n",
    "- Lack of quantitative skills of people producing graphs\n",
    "- The doctrine that statistical data are boring\n",
    "- If statistics are boring, then you have the wrong numbers\n",
    "- The doctrine that graphics are only for the unsophisticated reader\n",
    "- Aimed to divert and entertain those who find the text difficult\n",
    "- E.B. White \"No one can write decently who is distrustful of the reader's intelligence, or whose attitude is patronising\"\n",
    "- Contempt for graphics and their audience, along with a lack of quantitative skills, has deadly consequences for graphical work: over-decorated simplistic designs, tiny data sets, and big lies"
   ]
  },
  {
   "cell_type": "markdown",
   "id": "1a20e8c7-f069-40c0-a4cf-299bf9a97753",
   "metadata": {},
   "source": [
    "**Theory of data graphics - Data-Ink and Graphical Redesign**\n",
    "- Data graphics should draw the viewer's attention to the sense and substance of the data, not to something else\n",
    "- The data graphical form should present the quantitative contents\n",
    "- Statistical graphics are instruments to help people to reason about quantitative information\n",
    "- The fundamental principle of good statistical graphics - Above all else show the data    "
   ]
  },
  {
   "cell_type": "markdown",
   "id": "0e2825ee-f5d2-42ff-82e9-1073f3e5e0d2",
   "metadata": {},
   "source": [
    "**Data-ink**\n",
    "- A large share of ink on a graphic should present data information, the ink changing as the data change\n",
    "- Data-ink is the non-erasable core of a graphic, the non-redundant in arranged in response to the variation of the numbers\n",
    "- Data-ink ratio = $\\frac{data ink}{total ink used to print the graphic}$\n",
    "- Data-ink ratio = proportion of a graph's ink devoted to the non-redundant display of data-information\n",
    "- Data-ink ratio = 1.0 - proportion of a graphic that can be erased without the loss of data information\n",
    "- The larger the share of a graphic's ink devoted to data, the better: Maximise the data-ink ratio, within reason\n",
    "- Every bit of ink on a graph should have a reason\n",
    "- Nearly always, that reason should be that the ink presents new information\n",
    "- Other principles of graphic design follow from the idea of maximising data-ink"
   ]
  },
  {
   "cell_type": "markdown",
   "id": "3d1ffb58-6e7e-4ae7-ae52-12fd98634f4d",
   "metadata": {},
   "source": [
    "**Two erasing principles**\n",
    "- Erase non data-ink within reason\n",
    "- Unless redundancy has a worthy purpose erase redundant data ink within reason\n",
    "- Above all else show the data\n",
    "- Maximise the data ink ratio\n",
    "- Erase non data-ink\n",
    "- Erase redundant data-ink\n",
    "- Revise and edit"
   ]
  },
  {
   "cell_type": "markdown",
   "id": "673f302b-c651-44ac-b46a-beaf6109a7cc",
   "metadata": {},
   "source": [
    "**Chartjunk: Vibrations, Grids and Ducks**\n",
    "- Unintentional Optical Art\n",
    "- Moiré vibration is an undisciplined ambiguity, with an elusive, eye-straining quality that contaminates the entire graphic. It has no place in graphic design\n",
    "- One of the most sedate graphic elements, the grid should usually be muted or completely suppressed so that its presence is only implicit, lest it compete with the data\n",
    "- Dark grid lines are chart junk\n",
    "- When a graphic serves as a look-up table, then a grid may help in reading and interpolating. Even in this case, the grids should be muted relative to the data\n",
    "- Most ready-made graph paper comes with a darkly printed grid. The reverse (unprinted) side should be used, for then the lines show through faintly and do not clutter the data. If the paper is heavily gridded on both sides, throw it out!\n",
    "- Forgo chartjunk, including moiré vibration, the grid, and the duck"
   ]
  },
  {
   "cell_type": "markdown",
   "id": "f16e0a38-d5c2-49c7-a253-7ccd9cbeac46",
   "metadata": {},
   "source": [
    "**Small Multiples**\n",
    "- Small multiples resemble the frames of a movie: a series of graphics showing the same combination of variables, indexed by changes in another variable\n",
    "- The design remains constant through all the frames, so the attention is devoted entirely to shifts in the data\n",
    "- Well designed small multiples are:\n",
    "    - Inevitably comparative\n",
    "    - Deftly multivariate\n",
    "    - Shrunken, high-density graphics\n",
    "    - Usually based on a large data matrix\n",
    "    - Drawn almost entirely with data ink\n",
    "    - Efficient in interpretation\n",
    "    - Often narrative in context, showing shifts in relationship between variables as the index variable changes "
   ]
  },
  {
   "cell_type": "markdown",
   "id": "232c4d14-eb29-4282-8e3f-e49160fc7c00",
   "metadata": {},
   "source": [
    "[Tufte Book Review - The Visual Display of Quantitative Information](https://medium.com/the-ux-book-club/tufte-is-dead-long-live-tufte-21f830a0cfa8)"
   ]
  },
  {
   "cell_type": "code",
   "execution_count": null,
   "id": "353453b1-3e39-413c-b3c3-ce1fde6abb16",
   "metadata": {},
   "outputs": [],
   "source": []
  }
 ],
 "metadata": {
  "kernelspec": {
   "display_name": "Python 3 (ipykernel)",
   "language": "python",
   "name": "python3"
  },
  "language_info": {
   "codemirror_mode": {
    "name": "ipython",
    "version": 3
   },
   "file_extension": ".py",
   "mimetype": "text/x-python",
   "name": "python",
   "nbconvert_exporter": "python",
   "pygments_lexer": "ipython3",
   "version": "3.12.4"
  }
 },
 "nbformat": 4,
 "nbformat_minor": 5
}
